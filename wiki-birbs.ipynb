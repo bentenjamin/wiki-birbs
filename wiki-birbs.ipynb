{
 "cells": [
  {
   "attachments": {},
   "cell_type": "markdown",
   "metadata": {},
   "source": [
    "Import the file"
   ]
  },
  {
   "cell_type": "code",
   "execution_count": null,
   "metadata": {},
   "outputs": [],
   "source": [
    "import pandas as pd\n",
    "\n",
    "df = pd.read_excel('UK List Final.xlsx')"
   ]
  },
  {
   "attachments": {},
   "cell_type": "markdown",
   "metadata": {},
   "source": [
    "Init functions"
   ]
  },
  {
   "cell_type": "code",
   "execution_count": null,
   "metadata": {},
   "outputs": [],
   "source": [
    "from tqdm import tqdm\n",
    "import pickle\n",
    "import wikipedia\n",
    "\n",
    "# Set the language of the Wikipedia page\n",
    "wikipedia.set_lang(\"en\")\n",
    "\n",
    "birbs = {}\n",
    "\n",
    "def get_birb_sections(birb):\n",
    "    page = wikipedia.page(birb)\n",
    "    return {title: content for title in page.sections if (content := page.section(title))}\n",
    "\n",
    "def parse_birb_name(birb):\n",
    "    name = birb.split(\", \")\n",
    "    name.reverse()\n",
    "    return birb if (name.count == 1) else ' '.join(name)"
   ]
  },
  {
   "cell_type": "code",
   "execution_count": null,
   "metadata": {},
   "outputs": [],
   "source": [
    "with open('birbs.pickle', 'rb') as f:\n",
    "    birbs = pickle.load(f)"
   ]
  },
  {
   "cell_type": "code",
   "execution_count": null,
   "metadata": {},
   "outputs": [],
   "source": [
    "for i in tqdm(range(len(df))):\n",
    "    name = parse_birb_name(df['Species'][i])\n",
    "    if not name in birbs:\n",
    "        try:\n",
    "            birbs[name] = get_birb_sections(df['Scientific Name'][i])\n",
    "        except:\n",
    "            birbs[name] = None"
   ]
  },
  {
   "cell_type": "code",
   "execution_count": null,
   "metadata": {},
   "outputs": [],
   "source": [
    "with open('birbs.pickle', 'rb') as f:\n",
    "    pickle.dump(birbs, f)"
   ]
  }
 ],
 "metadata": {
  "kernelspec": {
   "display_name": "Python 3",
   "language": "python",
   "name": "python3"
  },
  "language_info": {
   "codemirror_mode": {
    "name": "ipython",
    "version": 3
   },
   "file_extension": ".py",
   "mimetype": "text/x-python",
   "name": "python",
   "nbconvert_exporter": "python",
   "pygments_lexer": "ipython3",
   "version": "3.10.6"
  },
  "orig_nbformat": 4,
  "vscode": {
   "interpreter": {
    "hash": "e7370f93d1d0cde622a1f8e1c04877d8463912d04d973331ad4851f04de6915a"
   }
  }
 },
 "nbformat": 4,
 "nbformat_minor": 2
}
